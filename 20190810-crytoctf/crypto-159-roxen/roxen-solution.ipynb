{
 "cells": [
  {
   "cell_type": "markdown",
   "metadata": {},
   "source": [
    "# CryptoCTF 2019: roXen"
   ]
  },
  {
   "cell_type": "markdown",
   "metadata": {
    "ExecuteTime": {
     "end_time": "2019-08-11T14:13:32.003041Z",
     "start_time": "2019-08-11T14:13:31.997519Z"
    }
   },
   "source": [
    "__Tags:__ `rsa`  \n",
    "__Total Points:__ 159  \n",
    "__Total Solvers:__ 22 "
   ]
  },
  {
   "cell_type": "markdown",
   "metadata": {},
   "source": [
    "# Problem Statement"
   ]
  },
  {
   "cell_type": "markdown",
   "metadata": {},
   "source": [
    "You are given the source code used for encrypting and the corresponding output for `c` and `n`\n",
    "\n",
    "```python\n",
    "#!/usr/bin/env python\n",
    "\n",
    "from Crypto.Util.number import *\n",
    "from secret import exp, flag, nbit\n",
    "\n",
    "assert exp & (exp + 1) == 0\n",
    "\n",
    "def adlit(x):\n",
    "    l = len(bin(x)[2:])\n",
    "    return (2 ** l - 1) ^ x\n",
    "\n",
    "def genadlit(nbit):\n",
    "    while True:\n",
    "        p = getPrime(nbit)\n",
    "        q = adlit(p) + 31337\n",
    "        if isPrime(q):\n",
    "            return p, q\n",
    "\n",
    "p, q = genadlit(nbit)\n",
    "e, n = exp, p * q\n",
    "\n",
    "c = pow(bytes_to_long(flag), e, n)\n",
    "\n",
    "print 'n =', hex(n)\n",
    "print 'c =', hex(c)\n",
    "```"
   ]
  },
  {
   "cell_type": "markdown",
   "metadata": {},
   "source": [
    "# Solution Overview"
   ]
  },
  {
   "cell_type": "markdown",
   "metadata": {},
   "source": [
    "Because of the way the `p` and `q` are generated, we realize that possible values `p + q` are limited. This makes factorizing `N`  into `p` and `q` feasible.\n",
    "\n",
    "Since `e` is not known we have to guess it after getting `p` and `q`. Because of the assertion that `exp & (exp + 1) == 0`, the possible values of `e` are limited to the form `2**k - 1`\n",
    "\n",
    "With limited search space for `p`, `q`, and `e`, we brute force to get the flag!"
   ]
  },
  {
   "cell_type": "markdown",
   "metadata": {},
   "source": [
    "# Solution"
   ]
  },
  {
   "cell_type": "markdown",
   "metadata": {},
   "source": [
    "## Factoring N"
   ]
  },
  {
   "cell_type": "markdown",
   "metadata": {
    "ExecuteTime": {
     "end_time": "2019-08-11T12:35:05.601784Z",
     "start_time": "2019-08-11T12:35:05.591043Z"
    }
   },
   "source": [
    "Whenever there are RSA problems, one of the first things I look at is the generation of the prime numbers `p` and `q`. \n",
    "\n",
    "The proper way to generate it is independently\n",
    "\n",
    "```python\n",
    "p = getPrime(nbit)\n",
    "q = getPrime(nbit)\n",
    "```\n",
    "\n",
    "If `q` is somehow derived from `p`, then this probably introduces some weakness. One simpler example of this is:\n",
    "\n",
    "```python\n",
    "p = getPrime(nbit)\n",
    "q = next_prime(p)\n",
    "```"
   ]
  },
  {
   "cell_type": "markdown",
   "metadata": {},
   "source": [
    "### Analyzing adlit"
   ]
  },
  {
   "cell_type": "markdown",
   "metadata": {},
   "source": [
    "Since `adlit` is used to derive `q` from `p`, we look at how predictable it is"
   ]
  },
  {
   "cell_type": "code",
   "execution_count": 7,
   "metadata": {
    "ExecuteTime": {
     "end_time": "2019-08-11T12:42:31.014819Z",
     "start_time": "2019-08-11T12:42:31.010498Z"
    }
   },
   "outputs": [],
   "source": [
    "def adlit(x):\n",
    "    l = len(bin(x)[2:])\n",
    "    return (2 ** l - 1) ^ x"
   ]
  },
  {
   "cell_type": "markdown",
   "metadata": {},
   "source": [
    "The value being _xor-ed_ to `x` is constant with respect to the number of bits of `x`.  `2 ** l - 1` is an idiom for producing a binary number of all ones. So `adlit` just flips all the bits of `x`"
   ]
  },
  {
   "cell_type": "code",
   "execution_count": 20,
   "metadata": {
    "ExecuteTime": {
     "end_time": "2019-08-11T12:51:22.991601Z",
     "start_time": "2019-08-11T12:51:22.985018Z"
    }
   },
   "outputs": [
    {
     "name": "stdout",
     "output_type": "stream",
     "text": [
      "37        100101\n",
      "adlit(37) 011010\n"
     ]
    }
   ],
   "source": [
    "print('37       ', bin(37)[2:])\n",
    "print('adlit(37)', bin(adlit(37))[2:].zfill(6))"
   ]
  },
  {
   "cell_type": "markdown",
   "metadata": {},
   "source": [
    "This means that the `x + adlit(x)` is constant depending on the binary length of `x`. \n",
    "\n",
    "$ x + adlit(x) = 2 ^ k - 1 \\tag{4.1.1.1}$ \n",
    "\n",
    "Where `k` is the binary length of `x`. "
   ]
  },
  {
   "cell_type": "code",
   "execution_count": 31,
   "metadata": {
    "ExecuteTime": {
     "end_time": "2019-08-11T13:01:25.784305Z",
     "start_time": "2019-08-11T13:01:25.779635Z"
    }
   },
   "outputs": [
    {
     "data": {
      "text/plain": [
       "63"
      ]
     },
     "execution_count": 31,
     "metadata": {},
     "output_type": "execute_result"
    }
   ],
   "source": [
    "37 + adlit(37)"
   ]
  },
  {
   "cell_type": "code",
   "execution_count": 32,
   "metadata": {
    "ExecuteTime": {
     "end_time": "2019-08-11T13:01:31.783463Z",
     "start_time": "2019-08-11T13:01:31.777895Z"
    }
   },
   "outputs": [
    {
     "data": {
      "text/plain": [
       "511"
      ]
     },
     "execution_count": 32,
     "metadata": {},
     "output_type": "execute_result"
    }
   ],
   "source": [
    "269 + adlit(269)"
   ]
  },
  {
   "cell_type": "markdown",
   "metadata": {},
   "source": [
    "And from the `genadlit`, we know that\n",
    "\n",
    "$q = adlit(p) + 31337 \\tag{4.1.1.2}$  \n",
    "\n",
    "With (4.1.1.1) and (4.1.1.2), can easily derive a form for `p + q`\n",
    "\n",
    "$$\n",
    "p + q = p + (adlit(p) + 31337)) \n",
    "$$\n",
    "\n",
    "$$\n",
    "= (p + adlit(p)) + 31337\n",
    "$$\n",
    "\n",
    "$$\n",
    "= (2 ^ k - 1) + 31337\n",
    "$$\n",
    "\n",
    "Therefore, for some integer positive integer `k`,\n",
    "\n",
    "$$\n",
    "p + q = 2 ^ k + 31336 \\tag{4.1.1.3}\n",
    "$$"
   ]
  },
  {
   "cell_type": "markdown",
   "metadata": {},
   "source": [
    "### Getting p and q"
   ]
  },
  {
   "cell_type": "markdown",
   "metadata": {},
   "source": [
    "Now we have two equations for `p` and `q`, using `n` and (4.1.1.3),"
   ]
  },
  {
   "cell_type": "markdown",
   "metadata": {},
   "source": [
    "$$ p + q = 2 ^ k + 31336 $$\n",
    "\n",
    "$$ n = p q $$\n"
   ]
  },
  {
   "cell_type": "markdown",
   "metadata": {},
   "source": [
    "And if we rename $ R = 2 ^ k + 31336 $, solving for `p` we get the quadtratic equation:\n",
    "\n",
    "$ p^2 - Rp + n = 0 \\tag{4.1.2.1} $ "
   ]
  },
  {
   "cell_type": "code",
   "execution_count": 63,
   "metadata": {
    "ExecuteTime": {
     "end_time": "2019-08-11T13:25:16.508799Z",
     "start_time": "2019-08-11T13:25:16.496389Z"
    }
   },
   "outputs": [
    {
     "name": "stdout",
     "output_type": "stream",
     "text": [
      "nbit = 1024\n",
      "p    = 91934396941118575436929554782758166784623142015203107928295225306949429527662253180027648166060067602233902389535868116051536080388999480377007211745229221564969130373120800620379012435790356909945473565305296926519232706950561924532325538399351352696805684504904629096892037592742285758390953849377910498739\n",
      "q    = 87834916545113015336000964296144306577174555879027549345134855850783246277838709952680829156347468418886211490335525241607253688425417142115840218894244902812798763051744684655923207165455737209507609386779708842318917975391900956941587572141475884466544826179681669143055208345737430546444402480246313669813\n"
     ]
    }
   ],
   "source": [
    "import gmpy2 \n",
    "\n",
    "n = 0x3ff77ad8783e006b6a2c9857f2f13a9d896297558e7c986c491e30c1a920512a0bad9f07c5569cf998fc35a3071de9d8b0f5ada4f8767b828e35044abce5dcf88f80d1c0a0b682605cce776a184e1bcb8118790fff92dc519d24f998a9c04faf43c434bef6c0fa39a3db7452dc07ccfced9271799f37d91d56b5f21c51651d6a9a41ee5a8af17a2f945fac2b1a0ea98bc70ef0f3e37371c9c7b6f90d3d811212fc80e0abcd5bbefe0c6edb3ca6845ded90677ccd8ff4de2c747b37265fc1250ba9aa89b4fd2bdfb4b4b72a7ff5b5ee67e81fd25027b6cb49db610ec60a05016e125ce0848f2c32bff33eed415a6d227262b338b0d1f3803d83977341c0d3638f\n",
    "c = 0x2672cade2272f3024fd2d1984ea1b8e54809977e7a8c70a07e2560f39e6fcce0e292426e28df51492dec67d000d640f3e5b4c6c447845e70d1432a3c816a33da6a276b0baabd0111279c9f267a90333625425b1d73f1cdc254ded2ad54955914824fc99e65b3dea3e365cfb1dce6e025986b2485b6c13ca0ee73c2433cf0ca0265afe42cbf647b5c721a6e51514220bab8fcb9cff570a6922bceb12e9d61115357afe1705bda3c3f0b647ba37711c560b75841135198cc076d0a52c74f9802760c1f881887cc3e50b7e0ff36f0d9fa1bfc66dff717f032c066b555e315cb07e3df13774eaa70b18ea1bb3ea0fd1227d4bac84be2660552d3885c79815baef661\n",
    "\n",
    "def get_pq(k):\n",
    "    R = 2**k + 31336\n",
    "\n",
    "    temp = R**2 - 4*n\n",
    "    if temp < 0: return -1, -1\n",
    "    sq, flag = gmpy2.iroot(temp, 2)\n",
    "    if not flag: return -1, -1\n",
    "    p = (R + sq) // 2\n",
    "    q = (R - sq) // 2\n",
    "    return p, q\n",
    "\n",
    "k = len(bin(n)[2:]) // 2 + 1\n",
    "p, q = get_pq(k)\n",
    "phi = (p-1)*(q-1) \n",
    "\n",
    "print('nbit =', k)\n",
    "print('p    =', p)\n",
    "print('q    =', q)\n"
   ]
  },
  {
   "cell_type": "markdown",
   "metadata": {},
   "source": [
    "And some sanity checking"
   ]
  },
  {
   "cell_type": "code",
   "execution_count": 66,
   "metadata": {
    "ExecuteTime": {
     "end_time": "2019-08-11T13:25:45.505371Z",
     "start_time": "2019-08-11T13:25:45.462307Z"
    }
   },
   "outputs": [],
   "source": [
    "assert p*q == n\n",
    "assert gmpy2.is_prime(p)\n",
    "assert gmpy2.is_prime(q)\n",
    "assert pow(2, phi, n) == 1"
   ]
  },
  {
   "cell_type": "markdown",
   "metadata": {},
   "source": [
    "## Getting e"
   ]
  },
  {
   "cell_type": "markdown",
   "metadata": {},
   "source": [
    "The clue for the possible values of `e` is from the assertion\n",
    "\n",
    "```python\n",
    "assert exp & (exp + 1) == 0\n",
    "```"
   ]
  },
  {
   "cell_type": "markdown",
   "metadata": {},
   "source": [
    "A quick and dirty way to analyze this is to just enumerate the first valid values of `exp`"
   ]
  },
  {
   "cell_type": "code",
   "execution_count": 68,
   "metadata": {
    "ExecuteTime": {
     "end_time": "2019-08-11T13:29:46.680205Z",
     "start_time": "2019-08-11T13:29:46.673629Z"
    }
   },
   "outputs": [
    {
     "name": "stdout",
     "output_type": "stream",
     "text": [
      "1\n",
      "3\n",
      "7\n",
      "15\n",
      "31\n",
      "63\n",
      "127\n",
      "255\n",
      "511\n"
     ]
    }
   ],
   "source": [
    "for exp in range(1, 1000):\n",
    "    if exp & (exp + 1) == 0:\n",
    "        print(exp)"
   ]
  },
  {
   "cell_type": "markdown",
   "metadata": {},
   "source": [
    "We see see that the exponent follows a similar form to what we've seen previously. For some integer `k`\n",
    "\n",
    "$ e = 2^k - 1 \\tag{4.2.1}$"
   ]
  },
  {
   "cell_type": "code",
   "execution_count": 70,
   "metadata": {
    "ExecuteTime": {
     "end_time": "2019-08-11T13:34:32.977337Z",
     "start_time": "2019-08-11T13:34:32.973099Z"
    }
   },
   "outputs": [],
   "source": [
    "for k in range(1, 100):\n",
    "    exp = 2**k - 1\n",
    "    assert exp & (exp + 1) == 0"
   ]
  },
  {
   "cell_type": "markdown",
   "metadata": {},
   "source": [
    "Although one problem to note is that valid values for `exp` might not be coprime with `phi`. This may be a problem since we need `e` and `phi` to be coprime to be able decrypt. We will address this in the next section."
   ]
  },
  {
   "cell_type": "code",
   "execution_count": 72,
   "metadata": {
    "ExecuteTime": {
     "end_time": "2019-08-11T13:38:50.854645Z",
     "start_time": "2019-08-11T13:38:50.847531Z"
    }
   },
   "outputs": [
    {
     "name": "stdout",
     "output_type": "stream",
     "text": [
      "2 3\n",
      "3 7\n",
      "4 15\n",
      "6 63\n",
      "8 255\n",
      "9 511\n"
     ]
    }
   ],
   "source": [
    "for k in range(1, 10):\n",
    "    exp = 2**k - 1\n",
    "    if gmpy2.gcd(exp, phi) != 1:\n",
    "        print(k, exp)"
   ]
  },
  {
   "cell_type": "markdown",
   "metadata": {},
   "source": [
    "## Getting the flag"
   ]
  },
  {
   "cell_type": "markdown",
   "metadata": {},
   "source": [
    "### The case where e and phi are not coprime"
   ]
  },
  {
   "cell_type": "markdown",
   "metadata": {},
   "source": [
    "Given a candidate `e` as well as `phi`, and `n`, we can easily decrypt if `e` and `phi` are coprime.  However, if they have a common factor, then we will have to work around it. \n",
    "\n",
    "If $e = g*e\\prime$ where $g = gcd(e, \\phi(n))$ and, $e\\prime$ and $\\phi(n)$ are coprime, the \"best\" we can do is to partially decrypt the message using some $ d\\prime \\equiv e\\prime^{-1} \\mod \\phi(n) $\n",
    "\n",
    "$$ c \\equiv m ^ e \\mod n $$\n",
    "$$ c \\equiv m ^ {ge\\prime} \\mod n $$\n",
    "$$ c^{d\\prime} \\equiv m ^ {g e\\prime d\\prime}  \\mod n $$\n",
    "$$ c^{d\\prime} \\equiv m ^ {g}  \\mod n $$\n",
    "\n",
    "Now how do we get $m \\mod n$ from $m ^ g \\mod n$? If $g$ and $m$ are small enough, and $n$ is big enough, ($ m ^ g < n $), then we can just get the root directly! Here is a quick example:"
   ]
  },
  {
   "cell_type": "code",
   "execution_count": 105,
   "metadata": {
    "ExecuteTime": {
     "end_time": "2019-08-11T14:05:09.919079Z",
     "start_time": "2019-08-11T14:05:09.914086Z"
    }
   },
   "outputs": [
    {
     "data": {
      "text/plain": [
       "(mpz(1337), True)"
      ]
     },
     "execution_count": 105,
     "metadata": {},
     "output_type": "execute_result"
    }
   ],
   "source": [
    "original_number = 1337\n",
    "test_cipher = pow(original_number, 7, n)\n",
    "gmpy2.iroot(test_cipher, 7)"
   ]
  },
  {
   "cell_type": "markdown",
   "metadata": {},
   "source": [
    "Since `n` is around 250 bytes long, and if we hope that the flag just around 30 - 40, then we can do this for exponents as high as 7."
   ]
  },
  {
   "cell_type": "markdown",
   "metadata": {},
   "source": [
    "### Putting it all together"
   ]
  },
  {
   "cell_type": "code",
   "execution_count": 73,
   "metadata": {
    "ExecuteTime": {
     "end_time": "2019-08-11T13:41:53.114541Z",
     "start_time": "2019-08-11T13:41:53.110785Z"
    }
   },
   "outputs": [],
   "source": [
    "from Cryptodome.Util.number import long_to_bytes"
   ]
  },
  {
   "cell_type": "code",
   "execution_count": 121,
   "metadata": {
    "ExecuteTime": {
     "end_time": "2019-08-11T14:19:28.546689Z",
     "start_time": "2019-08-11T14:19:21.040660Z"
    }
   },
   "outputs": [],
   "source": [
    "k = 1\n",
    "while True:\n",
    "    k += 1\n",
    "    e = 2**k - 1\n",
    "\n",
    "    gcd =  gmpy2.gcd(e, phi)\n",
    "    \n",
    "    # Ignore if gcd is too high\n",
    "    if gcd > 8: continue\n",
    "    if e % gcd**2 == 0: continue\n",
    "    e_prime = e // gcd\n",
    "\n",
    "    d_prime = gmpy2.invert(e_prime, phi)\n",
    "    \n",
    "    # RSA decryption\n",
    "    p_g = pow(c, d_prime, n)\n",
    "    \n",
    "    p, is_valid = gmpy2.iroot(p_g, gcd)\n",
    "    plaintext = long_to_bytes(p)\n",
    "    if b'CCTF' in plaintext and is_valid:\n",
    "        break"
   ]
  },
  {
   "cell_type": "code",
   "execution_count": 122,
   "metadata": {
    "ExecuteTime": {
     "end_time": "2019-08-11T14:19:29.635815Z",
     "start_time": "2019-08-11T14:19:29.630641Z"
    }
   },
   "outputs": [
    {
     "name": "stdout",
     "output_type": "stream",
     "text": [
      "k = 3729\n",
      "flag: b'CCTF{it5_3a5y_l1k3_5uNd4y_MOrn1N9}'\n"
     ]
    }
   ],
   "source": [
    "print('k =', k)\n",
    "print('flag:', plaintext)"
   ]
  }
 ],
 "metadata": {
  "kernelspec": {
   "display_name": "Python 3",
   "language": "python",
   "name": "python3"
  },
  "language_info": {
   "codemirror_mode": {
    "name": "ipython",
    "version": 3
   },
   "file_extension": ".py",
   "mimetype": "text/x-python",
   "name": "python",
   "nbconvert_exporter": "python",
   "pygments_lexer": "ipython3",
   "version": "3.7.3"
  },
  "toc": {
   "base_numbering": 1,
   "nav_menu": {},
   "number_sections": true,
   "sideBar": true,
   "skip_h1_title": false,
   "title_cell": "Table of Contents",
   "title_sidebar": "Contents",
   "toc_cell": false,
   "toc_position": {},
   "toc_section_display": true,
   "toc_window_display": false
  }
 },
 "nbformat": 4,
 "nbformat_minor": 2
}
