{
 "cells": [
  {
   "cell_type": "markdown",
   "metadata": {},
   "source": [
    "# 2019 Trendmicro CTF: IOT 100 "
   ]
  },
  {
   "cell_type": "code",
   "execution_count": 1,
   "metadata": {
    "ExecuteTime": {
     "end_time": "2019-09-12T12:00:53.438802Z",
     "start_time": "2019-09-12T12:00:53.311567Z"
    }
   },
   "outputs": [
    {
     "name": "stdout",
     "output_type": "stream",
     "text": [
      "Category: Iot\r\n",
      "Points: 100\r\n",
      "Wiretap\r\n",
      "\r\n",
      "You have obtained a part of documentation for a \"top secret\" flag generator device. The documentation includes a part of device firmware source code and a log from a logical analyzer. We suppose the log captured the communication between the microcontroller and the OLED display module\r\n",
      "\r\n",
      "Can you retrieve the flag using the information provided?\r\n",
      "\r\n",
      "Download the file\r\n",
      "Extract the downloaded file by using the following password.\r\n",
      "Optional: Check integrity of 7z file by comparing file SHA256 checksum.\r\n",
      "Command to check SHA256 checksum:\r\n",
      "Linux: sha256sum filename.7z\r\n",
      "Windows: certUtil -hashfile filename.7z SHA256\r\n",
      "\r\n",
      "\r\n",
      "> Password: FTIyFedHUVvwzegGPCi6\r\n",
      "> SHA256 Checksum: 92cea09299760ec4ad563850e36daaf0f0dabdcb8e2707ef655f2fbbee684eb5\r\n",
      "            "
     ]
    }
   ],
   "source": [
    "! cat prompt.txt"
   ]
  },
  {
   "cell_type": "code",
   "execution_count": 15,
   "metadata": {
    "ExecuteTime": {
     "end_time": "2019-09-12T12:04:43.316451Z",
     "start_time": "2019-09-12T12:04:42.899192Z"
    }
   },
   "outputs": [
    {
     "name": "stdout",
     "output_type": "stream",
     "text": [
      "\u001b[31mCTF_oled_qr_code.ino\u001b[m\u001b[m      files13.7z                solution.ipynb\r\n",
      "\u001b[31mexport_i2c_flag_final.csv\u001b[m\u001b[m prompt.txt\r\n"
     ]
    }
   ],
   "source": [
    "! 7z x files13.7z -pFTIyFedHUVvwzegGPCi6 -y > /dev/null\n",
    "! ls"
   ]
  },
  {
   "cell_type": "markdown",
   "metadata": {},
   "source": [
    "# Reading the code"
   ]
  },
  {
   "cell_type": "markdown",
   "metadata": {},
   "source": [
    "Here is the code that was used to generate the logs. It's pretty simple, it generates a QR code that includes the flag, and then draws this in a display."
   ]
  },
  {
   "cell_type": "markdown",
   "metadata": {},
   "source": [
    "## Entire Code"
   ]
  },
  {
   "cell_type": "code",
   "execution_count": 18,
   "metadata": {
    "ExecuteTime": {
     "end_time": "2019-09-12T12:11:37.954526Z",
     "start_time": "2019-09-12T12:11:37.821470Z"
    }
   },
   "outputs": [
    {
     "name": "stdout",
     "output_type": "stream",
     "text": [
      "#include <Wire.h>  // Only needed for Arduino 1.6.5 and earlier\r",
      "\r\n",
      "#include \"SSD1306Wire.h\"\r",
      "\r\n",
      "#include \"qrcode.h\"\r",
      "\r\n",
      "\r",
      "\r\n",
      "#define SECRET \"\" //put your secret code here\r",
      "\r\n",
      "\r",
      "\r\n",
      "void setup() {\r",
      "\r\n",
      "  \r",
      "\r\n",
      "SSD1306Wire  display(0x3c, D3, D5);\r",
      "\r\n",
      "display.init();\r",
      "\r\n",
      "display.setColor(WHITE);\r",
      "\r\n",
      "\r",
      "\r\n",
      "// Create the QR code 29x29\r",
      "\r\n",
      "    QRCode qrcode;\r",
      "\r\n",
      "    uint8_t qrcodeData[qrcode_getBufferSize(3)];\r",
      "\r\n",
      "    qrcode_initText(&qrcode, qrcodeData, 3, 0, SECRET);\r",
      "\r\n",
      "\r",
      "\r\n",
      "\r",
      "\r\n",
      "for (uint8_t y = 0; y < qrcode.size; y++) {\r",
      "\r\n",
      "        // Each horizontal module\r",
      "\r\n",
      "        for (uint8_t x = 0; x < qrcode.size; x++) {\r",
      "\r\n",
      "           if(qrcode_getModule(&qrcode, x, y)){\r",
      "\r\n",
      "            display.setPixel(x, y);\r",
      "\r\n",
      "\r",
      "\r\n",
      "           }\r",
      "\r\n",
      "        }\r",
      "\r\n",
      " }\r",
      "\r\n",
      "\r",
      "\r\n",
      "display.display();\r",
      "\r\n",
      "}\r",
      "\r\n",
      "\r",
      "\r\n",
      "void loop() {\r",
      "\r\n",
      "  // put your main code here, to run repeatedly:\r",
      "\r\n",
      "\r",
      "\r\n",
      "}\r",
      "\r\n"
     ]
    }
   ],
   "source": [
    "!cat CTF_oled_qr_code.ino"
   ]
  },
  {
   "cell_type": "markdown",
   "metadata": {},
   "source": [
    "## Display of QR "
   ]
  },
  {
   "cell_type": "markdown",
   "metadata": {},
   "source": [
    "This is the most important bits of the code. To understand how this relates to the log file, you may want to read a [bit of i2c](http://www.circuitbasics.com/basics-of-the-i2c-communication-protocol/).\n",
    "\n",
    "And it definitely helps to look for `SSD1306Wire.h` which can be found in [this repo](https://github.com/ThingPulse/esp8266-oled-ssd1306/blob/master/src/SSD1306Wire.h)"
   ]
  },
  {
   "cell_type": "markdown",
   "metadata": {},
   "source": [
    "```C\n",
    "SSD1306Wire  display(0x3c, D3, D5);\n",
    "display.init();\n",
    "display.setColor(WHITE);\n",
    "\n",
    "...\n",
    "    \n",
    "for (uint8_t y = 0; y < qrcode.size; y++) {\n",
    "        // Each horizontal module\n",
    "        for (uint8_t x = 0; x < qrcode.size; x++) {\n",
    "           if(qrcode_getModule(&qrcode, x, y)){\n",
    "            display.setPixel(x, y);\n",
    "\n",
    "           }\n",
    "        }\n",
    " }\n",
    "\n",
    "display.display();\n",
    "```\n"
   ]
  },
  {
   "cell_type": "markdown",
   "metadata": {},
   "source": [
    "# Reading the log file"
   ]
  },
  {
   "cell_type": "code",
   "execution_count": 21,
   "metadata": {
    "ExecuteTime": {
     "end_time": "2019-09-12T12:15:41.544430Z",
     "start_time": "2019-09-12T12:15:41.531163Z"
    }
   },
   "outputs": [],
   "source": [
    "import pandas as pd\n",
    "\n",
    "df = pd.read_csv('export_i2c_flag_final.csv')"
   ]
  },
  {
   "cell_type": "code",
   "execution_count": 26,
   "metadata": {
    "ExecuteTime": {
     "end_time": "2019-09-12T12:18:53.467423Z",
     "start_time": "2019-09-12T12:18:53.452764Z"
    }
   },
   "outputs": [
    {
     "data": {
      "text/html": [
       "<div>\n",
       "<style scoped>\n",
       "    .dataframe tbody tr th:only-of-type {\n",
       "        vertical-align: middle;\n",
       "    }\n",
       "\n",
       "    .dataframe tbody tr th {\n",
       "        vertical-align: top;\n",
       "    }\n",
       "\n",
       "    .dataframe thead th {\n",
       "        text-align: right;\n",
       "    }\n",
       "</style>\n",
       "<table border=\"1\" class=\"dataframe\">\n",
       "  <thead>\n",
       "    <tr style=\"text-align: right;\">\n",
       "      <th></th>\n",
       "      <th>Buffer No.</th>\n",
       "      <th>Packet</th>\n",
       "      <th>Start Time (s)</th>\n",
       "      <th>End Time (s)</th>\n",
       "      <th>Address Bits</th>\n",
       "      <th>Address</th>\n",
       "      <th>Address + R/W</th>\n",
       "      <th>R/W</th>\n",
       "      <th>Address ACK</th>\n",
       "      <th>Data</th>\n",
       "      <th>Data ACK</th>\n",
       "    </tr>\n",
       "  </thead>\n",
       "  <tbody>\n",
       "    <tr>\n",
       "      <th>0</th>\n",
       "      <td>1</td>\n",
       "      <td>19152</td>\n",
       "      <td>0.071099</td>\n",
       "      <td>0.071252</td>\n",
       "      <td>7</td>\n",
       "      <td>3C</td>\n",
       "      <td>78</td>\n",
       "      <td>Write</td>\n",
       "      <td>0</td>\n",
       "      <td>80 AE</td>\n",
       "      <td>0 0</td>\n",
       "    </tr>\n",
       "    <tr>\n",
       "      <th>1</th>\n",
       "      <td>1</td>\n",
       "      <td>19153</td>\n",
       "      <td>0.071279</td>\n",
       "      <td>0.071366</td>\n",
       "      <td>7</td>\n",
       "      <td>3C</td>\n",
       "      <td>78</td>\n",
       "      <td>Write</td>\n",
       "      <td>0</td>\n",
       "      <td>80 D5</td>\n",
       "      <td>0 0</td>\n",
       "    </tr>\n",
       "    <tr>\n",
       "      <th>2</th>\n",
       "      <td>1</td>\n",
       "      <td>19154</td>\n",
       "      <td>0.071372</td>\n",
       "      <td>0.071472</td>\n",
       "      <td>7</td>\n",
       "      <td>3C</td>\n",
       "      <td>78</td>\n",
       "      <td>Write</td>\n",
       "      <td>0</td>\n",
       "      <td>80 F0</td>\n",
       "      <td>0 0</td>\n",
       "    </tr>\n",
       "    <tr>\n",
       "      <th>3</th>\n",
       "      <td>1</td>\n",
       "      <td>19155</td>\n",
       "      <td>0.071479</td>\n",
       "      <td>0.071566</td>\n",
       "      <td>7</td>\n",
       "      <td>3C</td>\n",
       "      <td>78</td>\n",
       "      <td>Write</td>\n",
       "      <td>0</td>\n",
       "      <td>80 A8</td>\n",
       "      <td>0 0</td>\n",
       "    </tr>\n",
       "    <tr>\n",
       "      <th>4</th>\n",
       "      <td>1</td>\n",
       "      <td>19156</td>\n",
       "      <td>0.071576</td>\n",
       "      <td>0.071664</td>\n",
       "      <td>7</td>\n",
       "      <td>3C</td>\n",
       "      <td>78</td>\n",
       "      <td>Write</td>\n",
       "      <td>0</td>\n",
       "      <td>80 3F</td>\n",
       "      <td>0 0</td>\n",
       "    </tr>\n",
       "  </tbody>\n",
       "</table>\n",
       "</div>"
      ],
      "text/plain": [
       "   Buffer No.  Packet  Start Time (s)  End Time (s)  Address Bits Address  \\\n",
       "0           1   19152        0.071099      0.071252             7      3C   \n",
       "1           1   19153        0.071279      0.071366             7      3C   \n",
       "2           1   19154        0.071372      0.071472             7      3C   \n",
       "3           1   19155        0.071479      0.071566             7      3C   \n",
       "4           1   19156        0.071576      0.071664             7      3C   \n",
       "\n",
       "  Address + R/W    R/W  Address ACK   Data Data ACK  \n",
       "0            78  Write            0  80 AE      0 0  \n",
       "1            78  Write            0  80 D5      0 0  \n",
       "2            78  Write            0  80 F0      0 0  \n",
       "3            78  Write            0  80 A8      0 0  \n",
       "4            78  Write            0  80 3F      0 0  "
      ]
     },
     "execution_count": 26,
     "metadata": {},
     "output_type": "execute_result"
    }
   ],
   "source": [
    "df.head()"
   ]
  },
  {
   "cell_type": "markdown",
   "metadata": {},
   "source": [
    "To make sense of this log, we only really have to look at at the `Data` column. And the pattern `80 XX` are actually commands sent by the library to the display. This can be seen in [send_command function](https://github.com/ThingPulse/esp8266-oled-ssd1306/blob/master/src/SSD1306Wire.h#L168)\n",
    "\n",
    "```C\n",
    "    inline void sendCommand(uint8_t command) __attribute__((always_inline)){\n",
    "      initI2cIfNeccesary();\n",
    "      Wire.beginTransmission(_address);\n",
    "      Wire.write(0x80);\n",
    "      Wire.write(command);\n",
    "      Wire.endTransmission();\n",
    "    }\n",
    "```"
   ]
  },
  {
   "cell_type": "markdown",
   "metadata": {},
   "source": [
    "And these set of first commands are probably from the `init` function. What we really want to concentrate on is what is sent when `display.display()` is called because later we will see that `display.setPixel(x, y)` just stores the pixels in a buffer. We see that [these lines](https://github.com/ThingPulse/esp8266-oled-ssd1306/blob/master/src/SSD1306Wire.h#L103-L128) correspond to the last 14 lines of the log file"
   ]
  },
  {
   "cell_type": "markdown",
   "metadata": {},
   "source": [
    "```C\n",
    "        sendCommand(COLUMNADDR);\n",
    "        sendCommand(x_offset + minBoundX);\n",
    "        sendCommand(x_offset + maxBoundX);\n",
    "\n",
    "        sendCommand(PAGEADDR);\n",
    "        sendCommand(minBoundY);\n",
    "        sendCommand(maxBoundY);\n",
    "\n",
    "        byte k = 0;\n",
    "        for (y = minBoundY; y <= maxBoundY; y++) {\n",
    "          for (x = minBoundX; x <= maxBoundX; x++) {\n",
    "            if (k == 0) {\n",
    "              Wire.beginTransmission(_address);\n",
    "              Wire.write(0x40);\n",
    "            }\n",
    "\n",
    "            Wire.write(buffer[x + y * this->width()]);\n",
    "            k++;\n",
    "            if (k == 16)  {\n",
    "              Wire.endTransmission();\n",
    "              k = 0;\n",
    "            }\n",
    "          }\n",
    "          yield();\n",
    "        }\n",
    "```"
   ]
  },
  {
   "cell_type": "code",
   "execution_count": 33,
   "metadata": {
    "ExecuteTime": {
     "end_time": "2019-09-12T12:25:48.011299Z",
     "start_time": "2019-09-12T12:25:47.991871Z"
    },
    "scrolled": false
   },
   "outputs": [
    {
     "data": {
      "text/html": [
       "<div>\n",
       "<style scoped>\n",
       "    .dataframe tbody tr th:only-of-type {\n",
       "        vertical-align: middle;\n",
       "    }\n",
       "\n",
       "    .dataframe tbody tr th {\n",
       "        vertical-align: top;\n",
       "    }\n",
       "\n",
       "    .dataframe thead th {\n",
       "        text-align: right;\n",
       "    }\n",
       "</style>\n",
       "<table border=\"1\" class=\"dataframe\">\n",
       "  <thead>\n",
       "    <tr style=\"text-align: right;\">\n",
       "      <th></th>\n",
       "      <th>Buffer No.</th>\n",
       "      <th>Packet</th>\n",
       "      <th>Start Time (s)</th>\n",
       "      <th>End Time (s)</th>\n",
       "      <th>Address Bits</th>\n",
       "      <th>Address</th>\n",
       "      <th>Address + R/W</th>\n",
       "      <th>R/W</th>\n",
       "      <th>Address ACK</th>\n",
       "      <th>Data</th>\n",
       "      <th>Data ACK</th>\n",
       "    </tr>\n",
       "  </thead>\n",
       "  <tbody>\n",
       "    <tr>\n",
       "      <th>96</th>\n",
       "      <td>1</td>\n",
       "      <td>19248</td>\n",
       "      <td>0.154363</td>\n",
       "      <td>0.154477</td>\n",
       "      <td>7</td>\n",
       "      <td>3C</td>\n",
       "      <td>78</td>\n",
       "      <td>Write</td>\n",
       "      <td>0</td>\n",
       "      <td>80 21</td>\n",
       "      <td>0 0</td>\n",
       "    </tr>\n",
       "    <tr>\n",
       "      <th>97</th>\n",
       "      <td>1</td>\n",
       "      <td>19249</td>\n",
       "      <td>0.154483</td>\n",
       "      <td>0.154570</td>\n",
       "      <td>7</td>\n",
       "      <td>3C</td>\n",
       "      <td>78</td>\n",
       "      <td>Write</td>\n",
       "      <td>0</td>\n",
       "      <td>80 00</td>\n",
       "      <td>0 0</td>\n",
       "    </tr>\n",
       "    <tr>\n",
       "      <th>98</th>\n",
       "      <td>1</td>\n",
       "      <td>19250</td>\n",
       "      <td>0.154576</td>\n",
       "      <td>0.154664</td>\n",
       "      <td>7</td>\n",
       "      <td>3C</td>\n",
       "      <td>78</td>\n",
       "      <td>Write</td>\n",
       "      <td>0</td>\n",
       "      <td>80 1C</td>\n",
       "      <td>0 0</td>\n",
       "    </tr>\n",
       "    <tr>\n",
       "      <th>99</th>\n",
       "      <td>1</td>\n",
       "      <td>19251</td>\n",
       "      <td>0.154670</td>\n",
       "      <td>0.154757</td>\n",
       "      <td>7</td>\n",
       "      <td>3C</td>\n",
       "      <td>78</td>\n",
       "      <td>Write</td>\n",
       "      <td>0</td>\n",
       "      <td>80 22</td>\n",
       "      <td>0 0</td>\n",
       "    </tr>\n",
       "    <tr>\n",
       "      <th>100</th>\n",
       "      <td>1</td>\n",
       "      <td>19252</td>\n",
       "      <td>0.154764</td>\n",
       "      <td>0.154851</td>\n",
       "      <td>7</td>\n",
       "      <td>3C</td>\n",
       "      <td>78</td>\n",
       "      <td>Write</td>\n",
       "      <td>0</td>\n",
       "      <td>80 00</td>\n",
       "      <td>0 0</td>\n",
       "    </tr>\n",
       "    <tr>\n",
       "      <th>101</th>\n",
       "      <td>1</td>\n",
       "      <td>19253</td>\n",
       "      <td>0.154861</td>\n",
       "      <td>0.154948</td>\n",
       "      <td>7</td>\n",
       "      <td>3C</td>\n",
       "      <td>78</td>\n",
       "      <td>Write</td>\n",
       "      <td>0</td>\n",
       "      <td>80 03</td>\n",
       "      <td>0 0</td>\n",
       "    </tr>\n",
       "    <tr>\n",
       "      <th>102</th>\n",
       "      <td>1</td>\n",
       "      <td>19254</td>\n",
       "      <td>0.154984</td>\n",
       "      <td>0.155494</td>\n",
       "      <td>7</td>\n",
       "      <td>3C</td>\n",
       "      <td>78</td>\n",
       "      <td>Write</td>\n",
       "      <td>0</td>\n",
       "      <td>40 7F 41 5D 5D 5D 41 7F 00 F3 12 DE B5 C7 12 D...</td>\n",
       "      <td>0 0 0 0 0 0 0 0 0 0 0 0 0 0 0 0 0</td>\n",
       "    </tr>\n",
       "    <tr>\n",
       "      <th>103</th>\n",
       "      <td>1</td>\n",
       "      <td>19255</td>\n",
       "      <td>0.155525</td>\n",
       "      <td>0.156034</td>\n",
       "      <td>7</td>\n",
       "      <td>3C</td>\n",
       "      <td>78</td>\n",
       "      <td>Write</td>\n",
       "      <td>0</td>\n",
       "      <td>40 C7 12 DE B5 C7 00 7F 41 5D 5D 5D 41 7F A7 3...</td>\n",
       "      <td>0 0 0 0 0 0 0 0 0 0 0 0 0 0 0 0 0</td>\n",
       "    </tr>\n",
       "    <tr>\n",
       "      <th>104</th>\n",
       "      <td>1</td>\n",
       "      <td>19256</td>\n",
       "      <td>0.156059</td>\n",
       "      <td>0.156568</td>\n",
       "      <td>7</td>\n",
       "      <td>3C</td>\n",
       "      <td>78</td>\n",
       "      <td>Write</td>\n",
       "      <td>0</td>\n",
       "      <td>40 5C 6E 2D 55 A4 8D FB 43 94 F0 5B C3 94 F0 5...</td>\n",
       "      <td>0 0 0 0 0 0 0 0 0 0 0 0 0 0 0 0 0</td>\n",
       "    </tr>\n",
       "    <tr>\n",
       "      <th>105</th>\n",
       "      <td>1</td>\n",
       "      <td>19257</td>\n",
       "      <td>0.156598</td>\n",
       "      <td>0.157107</td>\n",
       "      <td>7</td>\n",
       "      <td>3C</td>\n",
       "      <td>78</td>\n",
       "      <td>Write</td>\n",
       "      <td>0</td>\n",
       "      <td>40 E4 A9 73 3D C3 41 FE 14 9B 5D D4 56 45 42 4...</td>\n",
       "      <td>0 0 0 0 0 0 0 0 0 0 0 0 0 0 0 0 0</td>\n",
       "    </tr>\n",
       "    <tr>\n",
       "      <th>106</th>\n",
       "      <td>1</td>\n",
       "      <td>19258</td>\n",
       "      <td>0.157132</td>\n",
       "      <td>0.157641</td>\n",
       "      <td>7</td>\n",
       "      <td>3C</td>\n",
       "      <td>78</td>\n",
       "      <td>Write</td>\n",
       "      <td>0</td>\n",
       "      <td>40 D5 1E A1 97 B2 94 F0 5B C3 94 F0 5B C3 35 F...</td>\n",
       "      <td>0 0 0 0 0 0 0 0 0 0 0 0 0 0 0 0 0</td>\n",
       "    </tr>\n",
       "    <tr>\n",
       "      <th>107</th>\n",
       "      <td>1</td>\n",
       "      <td>19259</td>\n",
       "      <td>0.157671</td>\n",
       "      <td>0.158179</td>\n",
       "      <td>7</td>\n",
       "      <td>3C</td>\n",
       "      <td>78</td>\n",
       "      <td>Write</td>\n",
       "      <td>0</td>\n",
       "      <td>40 55 1F F1 60 42 20 54 1F 10 17 17 17 10 1F 0...</td>\n",
       "      <td>0 0 0 0 0 0 0 0 0 0 0 0 0 0 0 0 0</td>\n",
       "    </tr>\n",
       "    <tr>\n",
       "      <th>108</th>\n",
       "      <td>1</td>\n",
       "      <td>19260</td>\n",
       "      <td>0.158203</td>\n",
       "      <td>0.158709</td>\n",
       "      <td>7</td>\n",
       "      <td>3C</td>\n",
       "      <td>78</td>\n",
       "      <td>Write</td>\n",
       "      <td>0</td>\n",
       "      <td>40 06 18 14 10 1B 03 14 10 1B 03 0D 17 09 01 0...</td>\n",
       "      <td>0 0 0 0 0 0 0 0 0 0 0 0 0 0 0 0 0</td>\n",
       "    </tr>\n",
       "    <tr>\n",
       "      <th>109</th>\n",
       "      <td>1</td>\n",
       "      <td>19261</td>\n",
       "      <td>0.158726</td>\n",
       "      <td>0.158897</td>\n",
       "      <td>7</td>\n",
       "      <td>3C</td>\n",
       "      <td>78</td>\n",
       "      <td>Write</td>\n",
       "      <td>0</td>\n",
       "      <td>40 06 00 06 15</td>\n",
       "      <td>0 0 0 0 0</td>\n",
       "    </tr>\n",
       "  </tbody>\n",
       "</table>\n",
       "</div>"
      ],
      "text/plain": [
       "     Buffer No.  Packet  Start Time (s)  End Time (s)  Address Bits Address  \\\n",
       "96            1   19248        0.154363      0.154477             7      3C   \n",
       "97            1   19249        0.154483      0.154570             7      3C   \n",
       "98            1   19250        0.154576      0.154664             7      3C   \n",
       "99            1   19251        0.154670      0.154757             7      3C   \n",
       "100           1   19252        0.154764      0.154851             7      3C   \n",
       "101           1   19253        0.154861      0.154948             7      3C   \n",
       "102           1   19254        0.154984      0.155494             7      3C   \n",
       "103           1   19255        0.155525      0.156034             7      3C   \n",
       "104           1   19256        0.156059      0.156568             7      3C   \n",
       "105           1   19257        0.156598      0.157107             7      3C   \n",
       "106           1   19258        0.157132      0.157641             7      3C   \n",
       "107           1   19259        0.157671      0.158179             7      3C   \n",
       "108           1   19260        0.158203      0.158709             7      3C   \n",
       "109           1   19261        0.158726      0.158897             7      3C   \n",
       "\n",
       "    Address + R/W    R/W  Address ACK  \\\n",
       "96             78  Write            0   \n",
       "97             78  Write            0   \n",
       "98             78  Write            0   \n",
       "99             78  Write            0   \n",
       "100            78  Write            0   \n",
       "101            78  Write            0   \n",
       "102            78  Write            0   \n",
       "103            78  Write            0   \n",
       "104            78  Write            0   \n",
       "105            78  Write            0   \n",
       "106            78  Write            0   \n",
       "107            78  Write            0   \n",
       "108            78  Write            0   \n",
       "109            78  Write            0   \n",
       "\n",
       "                                                  Data  \\\n",
       "96                                               80 21   \n",
       "97                                               80 00   \n",
       "98                                               80 1C   \n",
       "99                                               80 22   \n",
       "100                                              80 00   \n",
       "101                                              80 03   \n",
       "102  40 7F 41 5D 5D 5D 41 7F 00 F3 12 DE B5 C7 12 D...   \n",
       "103  40 C7 12 DE B5 C7 00 7F 41 5D 5D 5D 41 7F A7 3...   \n",
       "104  40 5C 6E 2D 55 A4 8D FB 43 94 F0 5B C3 94 F0 5...   \n",
       "105  40 E4 A9 73 3D C3 41 FE 14 9B 5D D4 56 45 42 4...   \n",
       "106  40 D5 1E A1 97 B2 94 F0 5B C3 94 F0 5B C3 35 F...   \n",
       "107  40 55 1F F1 60 42 20 54 1F 10 17 17 17 10 1F 0...   \n",
       "108  40 06 18 14 10 1B 03 14 10 1B 03 0D 17 09 01 0...   \n",
       "109                                     40 06 00 06 15   \n",
       "\n",
       "                              Data ACK  \n",
       "96                                 0 0  \n",
       "97                                 0 0  \n",
       "98                                 0 0  \n",
       "99                                 0 0  \n",
       "100                                0 0  \n",
       "101                                0 0  \n",
       "102  0 0 0 0 0 0 0 0 0 0 0 0 0 0 0 0 0  \n",
       "103  0 0 0 0 0 0 0 0 0 0 0 0 0 0 0 0 0  \n",
       "104  0 0 0 0 0 0 0 0 0 0 0 0 0 0 0 0 0  \n",
       "105  0 0 0 0 0 0 0 0 0 0 0 0 0 0 0 0 0  \n",
       "106  0 0 0 0 0 0 0 0 0 0 0 0 0 0 0 0 0  \n",
       "107  0 0 0 0 0 0 0 0 0 0 0 0 0 0 0 0 0  \n",
       "108  0 0 0 0 0 0 0 0 0 0 0 0 0 0 0 0 0  \n",
       "109                          0 0 0 0 0  "
      ]
     },
     "execution_count": 33,
     "metadata": {},
     "output_type": "execute_result"
    }
   ],
   "source": [
    "df.tail(14)"
   ]
  },
  {
   "cell_type": "markdown",
   "metadata": {},
   "source": [
    "We see that after the `40`, `Wire.write(buffer[x + y * this->width()]);` just prints out all the contents of the buffer. \n",
    "\n",
    "To understand what buffer has we look at the [setPixel function](https://github.com/ThingPulse/esp8266-oled-ssd1306/blob/42d9d63a8c3cc6f99af8162af2eb754f56e33b11/src/OLEDDisplay.cpp#L126-L134)."
   ]
  },
  {
   "cell_type": "markdown",
   "metadata": {
    "ExecuteTime": {
     "end_time": "2019-09-12T12:29:35.642157Z",
     "start_time": "2019-09-12T12:29:35.633703Z"
    }
   },
   "source": [
    "```C\n",
    "void OLEDDisplay::setPixel(int16_t x, int16_t y) {\n",
    "  if (x >= 0 && x < this->width() && y >= 0 && y < this->height()) {\n",
    "    switch (color) {\n",
    "      case WHITE:   buffer[x + (y >> 3) * this->width()] |=  (1 << (y & 7)); break;\n",
    "        ...\n",
    "    }\n",
    "  }\n",
    "}\n",
    "```"
   ]
  },
  {
   "cell_type": "markdown",
   "metadata": {},
   "source": [
    "We see that each cell in the buffer __represents 8 pixels__ for each bit in the buffer. "
   ]
  },
  {
   "cell_type": "code",
   "execution_count": 25,
   "metadata": {
    "ExecuteTime": {
     "end_time": "2019-09-07T10:23:47.906959Z",
     "start_time": "2019-09-07T10:23:47.902849Z"
    }
   },
   "outputs": [],
   "source": [
    "import numpy as np"
   ]
  },
  {
   "cell_type": "markdown",
   "metadata": {},
   "source": [
    "We extract the bytes one by one ignoring the first bytes, `40` "
   ]
  },
  {
   "cell_type": "code",
   "execution_count": 50,
   "metadata": {
    "ExecuteTime": {
     "end_time": "2019-09-07T10:31:36.148804Z",
     "start_time": "2019-09-07T10:31:36.145635Z"
    }
   },
   "outputs": [],
   "source": [
    "width = 29\n",
    "data = []\n",
    "for e in df['Data'][102:110]:\n",
    "    data.extend(e.split()[1:])\n",
    "data = [int(e, 16) for e in data]\n"
   ]
  },
  {
   "cell_type": "markdown",
   "metadata": {},
   "source": [
    "Filling up the grid for each on bit in the buffer"
   ]
  },
  {
   "cell_type": "code",
   "execution_count": 77,
   "metadata": {
    "ExecuteTime": {
     "end_time": "2019-09-07T10:42:36.731967Z",
     "start_time": "2019-09-07T10:42:36.725565Z"
    }
   },
   "outputs": [],
   "source": [
    "#       case WHITE:   buffer[x + (y >> 3) * this->width()] |=  (1 << (y & 7)); break;\n",
    "grid = np.full((width, width), 255)\n",
    "for idx, v in enumerate(data):\n",
    "    x = idx % width\n",
    "    y = (idx // width) << 3\n",
    "    \n",
    "    for i in range(8):\n",
    "        if (v & (1<<i)) > 0:\n",
    "            grid[x,y+i] = 0"
   ]
  },
  {
   "cell_type": "markdown",
   "metadata": {},
   "source": [
    "# Display the image"
   ]
  },
  {
   "cell_type": "code",
   "execution_count": 80,
   "metadata": {
    "ExecuteTime": {
     "end_time": "2019-09-07T10:42:51.328712Z",
     "start_time": "2019-09-07T10:42:51.156342Z"
    }
   },
   "outputs": [
    {
     "data": {
      "image/png": "[encoded data removed]",
      "text/plain": [
       "<Figure size 432x288 with 1 Axes>"
      ]
     },
     "metadata": {
      "needs_background": "light"
     },
     "output_type": "display_data"
    }
   ],
   "source": [
    "import matplotlib.pyplot as plt\n",
    "plt.imshow(grid, cmap=\"gray\")\n",
    "plt.show()"
   ]
  }
 ],
 "metadata": {
  "kernelspec": {
   "display_name": "Python 3",
   "language": "python",
   "name": "python3"
  },
  "language_info": {
   "codemirror_mode": {
    "name": "ipython",
    "version": 3
   },
   "file_extension": ".py",
   "mimetype": "text/x-python",
   "name": "python",
   "nbconvert_exporter": "python",
   "pygments_lexer": "ipython3",
   "version": "3.7.3"
  },
  "toc": {
   "base_numbering": 1,
   "nav_menu": {},
   "number_sections": true,
   "sideBar": true,
   "skip_h1_title": false,
   "title_cell": "Table of Contents",
   "title_sidebar": "Contents",
   "toc_cell": false,
   "toc_position": {},
   "toc_section_display": true,
   "toc_window_display": false
  }
 },
 "nbformat": 4,
 "nbformat_minor": 2
}
