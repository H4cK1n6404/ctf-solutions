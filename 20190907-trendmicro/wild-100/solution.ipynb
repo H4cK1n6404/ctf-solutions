{
 "cells": [
  {
   "cell_type": "markdown",
   "metadata": {},
   "source": [
    "# 2019 Trendmicro CTF: Wild 100 "
   ]
  },
  {
   "cell_type": "code",
   "execution_count": 1,
   "metadata": {
    "ExecuteTime": {
     "end_time": "2019-09-12T12:34:00.054361Z",
     "start_time": "2019-09-12T12:33:59.928760Z"
    }
   },
   "outputs": [
    {
     "name": "stdout",
     "output_type": "stream",
     "text": [
      "Category: Wildcard\r\n",
      "Points: 100\r\n",
      "You have been given a dataset which contains images of digits 3 and 6.\r\n",
      "The dataset contains a total of 34022 images (16768 files being images of digit 3, and the rest being images of digit 6).\r\n",
      "The dataset somehow got randomly mixed, and also contains some duplicate images of each digit.\r\n",
      "Your task is to find the number of unique images of each digit in the dataset.\r\n",
      "\r\n",
      "The steps of the challenge are:\r\n",
      "\r\n",
      "1. Since the images are randomly mixed, we need a way to separate the images of digits 3 and 6 from each other. You can use a clustering algorithm for this purpose.\r\n",
      "\r\n",
      "2. Figure out which digit belongs to which cluster.\r\n",
      "\r\n",
      "3. Count the number of unique images in each cluster, and form the flag.\r\n",
      "\r\n",
      "(Note if x is the number of unique images of digit 3, and y is the number of unique images of digit 6, then the flag will be TMCTF{x_y})\r\n",
      "\r\n",
      "Download the file\r\n",
      "Extract the downloaded file by using the following password.\r\n",
      "Optional: Check integrity of 7z file by comparing file SHA256 checksum.\r\n",
      "Command to check SHA256 checksum:\r\n",
      "Linux: sha256sum filename.7z\r\n",
      "Windows: certUtil -hashfile filename.7z SHA256\r\n",
      "\r\n",
      "\r\n",
      "> Password: bfF0zdtn4CpcQq1VFqUL\r\n",
      "> SHA256 Checksum: 772e15c6bbe830bb9a4c6b1beb877da021fbea889e9a201fc9075ee5767f8849\r\n",
      "            "
     ]
    }
   ],
   "source": [
    "! cat prompt.txt"
   ]
  },
  {
   "cell_type": "code",
   "execution_count": 14,
   "metadata": {
    "ExecuteTime": {
     "end_time": "2019-09-12T12:37:28.901501Z",
     "start_time": "2019-09-12T12:37:19.139531Z"
    }
   },
   "outputs": [
    {
     "name": "stdout",
     "output_type": "stream",
     "text": [
      "\u001b[34mdata\u001b[m\u001b[m           data.zip       files21.7z     prompt.txt     solution.ipynb\r\n"
     ]
    }
   ],
   "source": [
    "! 7z x files21.7z -pbfF0zdtn4CpcQq1VFqUL -y > /dev/null\n",
    "! unzip -q data.zip \n",
    "! ls"
   ]
  },
  {
   "cell_type": "markdown",
   "metadata": {},
   "source": [
    "# Solution"
   ]
  },
  {
   "cell_type": "markdown",
   "metadata": {},
   "source": [
    "This problem is fairly straightforward. Since we already know that there should be two main classes then K-means clustering with K=2 is the first method we try. "
   ]
  },
  {
   "cell_type": "markdown",
   "metadata": {},
   "source": [
    "# Load Data"
   ]
  },
  {
   "cell_type": "code",
   "execution_count": 16,
   "metadata": {
    "ExecuteTime": {
     "end_time": "2019-09-12T14:43:37.398772Z",
     "start_time": "2019-09-12T14:43:35.855841Z"
    }
   },
   "outputs": [],
   "source": [
    "import glob\n",
    "import numpy as np\n",
    "import pandas as pd\n",
    "from PIL import Image\n",
    "import matplotlib.pyplot as plt"
   ]
  },
  {
   "cell_type": "code",
   "execution_count": 21,
   "metadata": {
    "ExecuteTime": {
     "end_time": "2019-09-12T14:43:46.549233Z",
     "start_time": "2019-09-12T14:43:46.391623Z"
    }
   },
   "outputs": [],
   "source": [
    "filelist = glob.glob('data/*.jpg')"
   ]
  },
  {
   "cell_type": "code",
   "execution_count": 22,
   "metadata": {
    "ExecuteTime": {
     "end_time": "2019-09-12T14:44:10.942589Z",
     "start_time": "2019-09-12T14:43:46.580465Z"
    }
   },
   "outputs": [
    {
     "data": {
      "text/plain": [
       "(34022, 784)"
      ]
     },
     "execution_count": 22,
     "metadata": {},
     "output_type": "execute_result"
    }
   ],
   "source": [
    "X = np.array([np.array(Image.open(fname).convert('L')).reshape(28*28) for fname in filelist])\n",
    "X.shape"
   ]
  },
  {
   "cell_type": "code",
   "execution_count": 25,
   "metadata": {
    "ExecuteTime": {
     "end_time": "2019-09-12T14:44:39.745712Z",
     "start_time": "2019-09-12T14:44:39.582907Z"
    }
   },
   "outputs": [
    {
     "data": {
      "image/png": "[encoded data removed]",
      "text/plain": [
       "<Figure size 432x288 with 1 Axes>"
      ]
     },
     "metadata": {
      "needs_background": "light"
     },
     "output_type": "display_data"
    }
   ],
   "source": [
    "plt.imshow(X[0].reshape(28, 28), cmap=\"gray\")\n",
    "plt.show()"
   ]
  },
  {
   "cell_type": "markdown",
   "metadata": {},
   "source": [
    "# Cluster"
   ]
  },
  {
   "cell_type": "markdown",
   "metadata": {},
   "source": [
    "Numbers in each cluster matches the expected counts in the prompt."
   ]
  },
  {
   "cell_type": "code",
   "execution_count": 42,
   "metadata": {
    "ExecuteTime": {
     "end_time": "2019-09-07T06:41:31.411543Z",
     "start_time": "2019-09-07T06:41:22.609651Z"
    }
   },
   "outputs": [
    {
     "data": {
      "text/plain": [
       "1    17254\n",
       "0    16768\n",
       "dtype: int64"
      ]
     },
     "execution_count": 42,
     "metadata": {},
     "output_type": "execute_result"
    }
   ],
   "source": [
    "from sklearn.cluster import KMeans\n",
    "kmeans = KMeans(n_clusters=2) \n",
    "kmeans.fit(X)\n",
    "pd.Series(kmeans.labels_).value_counts()"
   ]
  },
  {
   "cell_type": "markdown",
   "metadata": {},
   "source": [
    "To get the unique we just hash the bytes."
   ]
  },
  {
   "cell_type": "code",
   "execution_count": 37,
   "metadata": {
    "ExecuteTime": {
     "end_time": "2019-09-07T06:34:03.514327Z",
     "start_time": "2019-09-07T06:34:03.438880Z"
    }
   },
   "outputs": [],
   "source": [
    "counts = [set(), set()]\n",
    "for idx, label in enumerate(kmeans.labels_):\n",
    "    counts[label].add(X[idx].tostring())"
   ]
  },
  {
   "cell_type": "code",
   "execution_count": 38,
   "metadata": {
    "ExecuteTime": {
     "end_time": "2019-09-07T06:34:09.206761Z",
     "start_time": "2019-09-07T06:34:09.201182Z"
    }
   },
   "outputs": [
    {
     "data": {
      "text/plain": [
       "347"
      ]
     },
     "execution_count": 38,
     "metadata": {},
     "output_type": "execute_result"
    }
   ],
   "source": [
    "len(counts[0])"
   ]
  },
  {
   "cell_type": "code",
   "execution_count": 39,
   "metadata": {
    "ExecuteTime": {
     "end_time": "2019-09-07T06:34:12.349615Z",
     "start_time": "2019-09-07T06:34:12.343988Z"
    },
    "scrolled": true
   },
   "outputs": [
    {
     "data": {
      "text/plain": [
       "14962"
      ]
     },
     "execution_count": 39,
     "metadata": {},
     "output_type": "execute_result"
    }
   ],
   "source": [
    "len(counts[1])"
   ]
  },
  {
   "cell_type": "markdown",
   "metadata": {},
   "source": [
    "__FLAG:__ TMCTF{14962_347}"
   ]
  }
 ],
 "metadata": {
  "kernelspec": {
   "display_name": "Python 3",
   "language": "python",
   "name": "python3"
  },
  "language_info": {
   "codemirror_mode": {
    "name": "ipython",
    "version": 3
   },
   "file_extension": ".py",
   "mimetype": "text/x-python",
   "name": "python",
   "nbconvert_exporter": "python",
   "pygments_lexer": "ipython3",
   "version": "3.7.3"
  },
  "toc": {
   "base_numbering": 1,
   "nav_menu": {},
   "number_sections": true,
   "sideBar": true,
   "skip_h1_title": false,
   "title_cell": "Table of Contents",
   "title_sidebar": "Contents",
   "toc_cell": false,
   "toc_position": {},
   "toc_section_display": true,
   "toc_window_display": false
  }
 },
 "nbformat": 4,
 "nbformat_minor": 2
}
